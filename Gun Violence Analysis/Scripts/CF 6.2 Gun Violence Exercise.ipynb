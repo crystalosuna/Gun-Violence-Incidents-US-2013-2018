{
 "cells": [
  {
   "cell_type": "markdown",
   "id": "0031c4ca",
   "metadata": {},
   "source": [
    "## 6.2 Exploring Relationships"
   ]
  },
  {
   "cell_type": "markdown",
   "id": "2ebe3c22",
   "metadata": {},
   "source": [
    "1. Importing Visualization Libraries and Data"
   ]
  },
  {
   "cell_type": "code",
   "execution_count": 1,
   "id": "510795d9",
   "metadata": {},
   "outputs": [],
   "source": [
    "import pandas as pd\n",
    "import numpy as np\n",
    "import seaborn as sns\n",
    "import matplotlib.pyplot as plt\n",
    "import matplotlib\n",
    "import os"
   ]
  },
  {
   "cell_type": "code",
   "execution_count": 2,
   "id": "75e5723a",
   "metadata": {},
   "outputs": [
    {
     "data": {
      "text/plain": [
       "'3.7.0'"
      ]
     },
     "execution_count": 2,
     "metadata": {},
     "output_type": "execute_result"
    }
   ],
   "source": [
    "matplotlib.__version__"
   ]
  },
  {
   "cell_type": "code",
   "execution_count": 3,
   "id": "c08f2e75",
   "metadata": {},
   "outputs": [],
   "source": [
    "%matplotlib inline"
   ]
  },
  {
   "cell_type": "code",
   "execution_count": 4,
   "id": "a2046bb2",
   "metadata": {},
   "outputs": [],
   "source": [
    "# Folder path \n",
    "path = r'/Users/crystalosuna/Documents/Gun Violence Analysis'"
   ]
  },
  {
   "cell_type": "code",
   "execution_count": 5,
   "id": "a7b10ef8",
   "metadata": {},
   "outputs": [],
   "source": [
    "# Import data\n",
    "df = pd.read_csv (os.path.join(path, 'Data', 'gun-violence-data-clean1.csv'), index_col = False)"
   ]
  },
  {
   "cell_type": "markdown",
   "id": "5094aefe",
   "metadata": {},
   "source": [
    "2. Data Clean"
   ]
  },
  {
   "cell_type": "code",
   "execution_count": 6,
   "id": "ce3c2b4b",
   "metadata": {},
   "outputs": [
    {
     "data": {
      "text/plain": [
       "(239677, 21)"
      ]
     },
     "execution_count": 6,
     "metadata": {},
     "output_type": "execute_result"
    }
   ],
   "source": [
    "df.shape"
   ]
  },
  {
   "cell_type": "code",
   "execution_count": 7,
   "id": "432c5d97",
   "metadata": {},
   "outputs": [
    {
     "data": {
      "text/plain": [
       "Index(['incident_id', 'date', 'state', 'city_or_county', 'number_killed',\n",
       "       'number_injured', 'congressional_district', 'gun_type',\n",
       "       'incident_characteristics', 'Gang Reated?', 'Mass shooting?',\n",
       "       'number_guns_involved', 'participant_age', 'participant_age_group',\n",
       "       'participant_gender', 'participant_status', 'participant_type',\n",
       "       'state_house_district', 'state_senate_district', 'latitude',\n",
       "       'longitude'],\n",
       "      dtype='object')"
      ]
     },
     "execution_count": 7,
     "metadata": {},
     "output_type": "execute_result"
    }
   ],
   "source": [
    "df.columns"
   ]
  },
  {
   "cell_type": "code",
   "execution_count": 8,
   "id": "7b071b52",
   "metadata": {},
   "outputs": [
    {
     "data": {
      "text/plain": [
       "incident_id                   int64\n",
       "date                         object\n",
       "state                        object\n",
       "city_or_county               object\n",
       "number_killed                 int64\n",
       "number_injured                int64\n",
       "congressional_district      float64\n",
       "gun_type                     object\n",
       "incident_characteristics     object\n",
       "Gang Reated?                 object\n",
       "Mass shooting?               object\n",
       "number_guns_involved         object\n",
       "participant_age              object\n",
       "participant_age_group        object\n",
       "participant_gender           object\n",
       "participant_status           object\n",
       "participant_type             object\n",
       "state_house_district         object\n",
       "state_senate_district        object\n",
       "latitude                    float64\n",
       "longitude                   float64\n",
       "dtype: object"
      ]
     },
     "execution_count": 8,
     "metadata": {},
     "output_type": "execute_result"
    }
   ],
   "source": [
    "df.dtypes"
   ]
  },
  {
   "cell_type": "code",
   "execution_count": 9,
   "id": "b7f899d8",
   "metadata": {},
   "outputs": [
    {
     "data": {
      "text/html": [
       "<div>\n",
       "<style scoped>\n",
       "    .dataframe tbody tr th:only-of-type {\n",
       "        vertical-align: middle;\n",
       "    }\n",
       "\n",
       "    .dataframe tbody tr th {\n",
       "        vertical-align: top;\n",
       "    }\n",
       "\n",
       "    .dataframe thead th {\n",
       "        text-align: right;\n",
       "    }\n",
       "</style>\n",
       "<table border=\"1\" class=\"dataframe\">\n",
       "  <thead>\n",
       "    <tr style=\"text-align: right;\">\n",
       "      <th></th>\n",
       "      <th>incident_id</th>\n",
       "      <th>date</th>\n",
       "      <th>state</th>\n",
       "      <th>city_or_county</th>\n",
       "      <th>number_killed</th>\n",
       "      <th>number_injured</th>\n",
       "      <th>congressional_district</th>\n",
       "      <th>gun_type</th>\n",
       "      <th>incident_characteristics</th>\n",
       "      <th>Gang Reated?</th>\n",
       "      <th>...</th>\n",
       "      <th>number_guns_involved</th>\n",
       "      <th>participant_age</th>\n",
       "      <th>participant_age_group</th>\n",
       "      <th>participant_gender</th>\n",
       "      <th>participant_status</th>\n",
       "      <th>participant_type</th>\n",
       "      <th>state_house_district</th>\n",
       "      <th>state_senate_district</th>\n",
       "      <th>latitude</th>\n",
       "      <th>longitude</th>\n",
       "    </tr>\n",
       "  </thead>\n",
       "  <tbody>\n",
       "    <tr>\n",
       "      <th>0</th>\n",
       "      <td>461105</td>\n",
       "      <td>1/1/13</td>\n",
       "      <td>Pennsylvania</td>\n",
       "      <td>Mckeesport</td>\n",
       "      <td>0</td>\n",
       "      <td>4</td>\n",
       "      <td>14.0</td>\n",
       "      <td>0::Unkown</td>\n",
       "      <td>Shot - Wounded/Injured||Mass Shooting (4+ vict...</td>\n",
       "      <td>Not Gang Related</td>\n",
       "      <td>...</td>\n",
       "      <td>Unkown</td>\n",
       "      <td>0::20</td>\n",
       "      <td>0::Adult 18+||1::Adult 18+||2::Adult 18+||3::A...</td>\n",
       "      <td>0::Male||1::Male||3::Male||4::Female</td>\n",
       "      <td>0::Arrested||1::Injured||2::Injured||3::Injure...</td>\n",
       "      <td>0::Victim||1::Victim||2::Victim||3::Victim||4:...</td>\n",
       "      <td>Unkown</td>\n",
       "      <td>Unkown</td>\n",
       "      <td>40.3467</td>\n",
       "      <td>-79.8559</td>\n",
       "    </tr>\n",
       "    <tr>\n",
       "      <th>1</th>\n",
       "      <td>460726</td>\n",
       "      <td>1/1/13</td>\n",
       "      <td>California</td>\n",
       "      <td>Hawthorne</td>\n",
       "      <td>1</td>\n",
       "      <td>3</td>\n",
       "      <td>43.0</td>\n",
       "      <td>0::Unkown</td>\n",
       "      <td>Shot - Wounded/Injured||Shot - Dead (murder, a...</td>\n",
       "      <td>Gang Related</td>\n",
       "      <td>...</td>\n",
       "      <td>Unkown</td>\n",
       "      <td>0::20</td>\n",
       "      <td>0::Adult 18+||1::Adult 18+||2::Adult 18+||3::A...</td>\n",
       "      <td>0::Male</td>\n",
       "      <td>0::Killed||1::Injured||2::Injured||3::Injured</td>\n",
       "      <td>0::Victim||1::Victim||2::Victim||3::Victim||4:...</td>\n",
       "      <td>62</td>\n",
       "      <td>35</td>\n",
       "      <td>33.9090</td>\n",
       "      <td>-118.3330</td>\n",
       "    </tr>\n",
       "    <tr>\n",
       "      <th>2</th>\n",
       "      <td>478855</td>\n",
       "      <td>1/1/13</td>\n",
       "      <td>Ohio</td>\n",
       "      <td>Lorain</td>\n",
       "      <td>1</td>\n",
       "      <td>3</td>\n",
       "      <td>9.0</td>\n",
       "      <td>0::Unknown||1::Unknown</td>\n",
       "      <td>Shot - Wounded/Injured||Shot - Dead (murder, a...</td>\n",
       "      <td>Not Gang Related</td>\n",
       "      <td>...</td>\n",
       "      <td>2</td>\n",
       "      <td>0::25||1::31||2::33||3::34||4::33</td>\n",
       "      <td>0::Adult 18+||1::Adult 18+||2::Adult 18+||3::A...</td>\n",
       "      <td>0::Male||1::Male||2::Male||3::Male||4::Male</td>\n",
       "      <td>0::Injured, Unharmed, Arrested||1::Unharmed, A...</td>\n",
       "      <td>0::Subject-Suspect||1::Subject-Suspect||2::Vic...</td>\n",
       "      <td>56</td>\n",
       "      <td>13</td>\n",
       "      <td>41.4455</td>\n",
       "      <td>-82.1377</td>\n",
       "    </tr>\n",
       "    <tr>\n",
       "      <th>3</th>\n",
       "      <td>478925</td>\n",
       "      <td>1/5/13</td>\n",
       "      <td>Colorado</td>\n",
       "      <td>Aurora</td>\n",
       "      <td>4</td>\n",
       "      <td>0</td>\n",
       "      <td>6.0</td>\n",
       "      <td>0::Unkown</td>\n",
       "      <td>Shot - Dead (murder, accidental, suicide)||Off...</td>\n",
       "      <td>Not Gang Related</td>\n",
       "      <td>...</td>\n",
       "      <td>Unkown</td>\n",
       "      <td>0::29||1::33||2::56||3::33</td>\n",
       "      <td>0::Adult 18+||1::Adult 18+||2::Adult 18+||3::A...</td>\n",
       "      <td>0::Female||1::Male||2::Male||3::Male</td>\n",
       "      <td>0::Killed||1::Killed||2::Killed||3::Killed</td>\n",
       "      <td>0::Victim||1::Victim||2::Victim||3::Subject-Su...</td>\n",
       "      <td>40</td>\n",
       "      <td>28</td>\n",
       "      <td>39.6518</td>\n",
       "      <td>-104.8020</td>\n",
       "    </tr>\n",
       "    <tr>\n",
       "      <th>4</th>\n",
       "      <td>478959</td>\n",
       "      <td>1/7/13</td>\n",
       "      <td>North Carolina</td>\n",
       "      <td>Greensboro</td>\n",
       "      <td>2</td>\n",
       "      <td>2</td>\n",
       "      <td>6.0</td>\n",
       "      <td>0::Handgun||1::Handgun</td>\n",
       "      <td>Shot - Wounded/Injured||Shot - Dead (murder, a...</td>\n",
       "      <td>Not Gang Related</td>\n",
       "      <td>...</td>\n",
       "      <td>2</td>\n",
       "      <td>0::18||1::46||2::14||3::47</td>\n",
       "      <td>0::Adult 18+||1::Adult 18+||2::Teen 12-17||3::...</td>\n",
       "      <td>0::Female||1::Male||2::Male||3::Female</td>\n",
       "      <td>0::Injured||1::Injured||2::Killed||3::Killed</td>\n",
       "      <td>0::Victim||1::Victim||2::Victim||3::Subject-Su...</td>\n",
       "      <td>62</td>\n",
       "      <td>27</td>\n",
       "      <td>36.1140</td>\n",
       "      <td>-79.9569</td>\n",
       "    </tr>\n",
       "  </tbody>\n",
       "</table>\n",
       "<p>5 rows × 21 columns</p>\n",
       "</div>"
      ],
      "text/plain": [
       "   incident_id    date           state city_or_county  number_killed  \\\n",
       "0       461105  1/1/13    Pennsylvania     Mckeesport              0   \n",
       "1       460726  1/1/13      California      Hawthorne              1   \n",
       "2       478855  1/1/13            Ohio         Lorain              1   \n",
       "3       478925  1/5/13        Colorado         Aurora              4   \n",
       "4       478959  1/7/13  North Carolina     Greensboro              2   \n",
       "\n",
       "   number_injured  congressional_district                gun_type  \\\n",
       "0               4                    14.0               0::Unkown   \n",
       "1               3                    43.0               0::Unkown   \n",
       "2               3                     9.0  0::Unknown||1::Unknown   \n",
       "3               0                     6.0               0::Unkown   \n",
       "4               2                     6.0  0::Handgun||1::Handgun   \n",
       "\n",
       "                            incident_characteristics      Gang Reated?  ...  \\\n",
       "0  Shot - Wounded/Injured||Mass Shooting (4+ vict...  Not Gang Related  ...   \n",
       "1  Shot - Wounded/Injured||Shot - Dead (murder, a...      Gang Related  ...   \n",
       "2  Shot - Wounded/Injured||Shot - Dead (murder, a...  Not Gang Related  ...   \n",
       "3  Shot - Dead (murder, accidental, suicide)||Off...  Not Gang Related  ...   \n",
       "4  Shot - Wounded/Injured||Shot - Dead (murder, a...  Not Gang Related  ...   \n",
       "\n",
       "  number_guns_involved                    participant_age  \\\n",
       "0               Unkown                              0::20   \n",
       "1               Unkown                              0::20   \n",
       "2                    2  0::25||1::31||2::33||3::34||4::33   \n",
       "3               Unkown         0::29||1::33||2::56||3::33   \n",
       "4                    2         0::18||1::46||2::14||3::47   \n",
       "\n",
       "                               participant_age_group  \\\n",
       "0  0::Adult 18+||1::Adult 18+||2::Adult 18+||3::A...   \n",
       "1  0::Adult 18+||1::Adult 18+||2::Adult 18+||3::A...   \n",
       "2  0::Adult 18+||1::Adult 18+||2::Adult 18+||3::A...   \n",
       "3  0::Adult 18+||1::Adult 18+||2::Adult 18+||3::A...   \n",
       "4  0::Adult 18+||1::Adult 18+||2::Teen 12-17||3::...   \n",
       "\n",
       "                            participant_gender  \\\n",
       "0         0::Male||1::Male||3::Male||4::Female   \n",
       "1                                      0::Male   \n",
       "2  0::Male||1::Male||2::Male||3::Male||4::Male   \n",
       "3         0::Female||1::Male||2::Male||3::Male   \n",
       "4       0::Female||1::Male||2::Male||3::Female   \n",
       "\n",
       "                                  participant_status  \\\n",
       "0  0::Arrested||1::Injured||2::Injured||3::Injure...   \n",
       "1      0::Killed||1::Injured||2::Injured||3::Injured   \n",
       "2  0::Injured, Unharmed, Arrested||1::Unharmed, A...   \n",
       "3         0::Killed||1::Killed||2::Killed||3::Killed   \n",
       "4       0::Injured||1::Injured||2::Killed||3::Killed   \n",
       "\n",
       "                                    participant_type state_house_district  \\\n",
       "0  0::Victim||1::Victim||2::Victim||3::Victim||4:...               Unkown   \n",
       "1  0::Victim||1::Victim||2::Victim||3::Victim||4:...                   62   \n",
       "2  0::Subject-Suspect||1::Subject-Suspect||2::Vic...                   56   \n",
       "3  0::Victim||1::Victim||2::Victim||3::Subject-Su...                   40   \n",
       "4  0::Victim||1::Victim||2::Victim||3::Subject-Su...                   62   \n",
       "\n",
       "  state_senate_district latitude  longitude  \n",
       "0                Unkown  40.3467   -79.8559  \n",
       "1                    35  33.9090  -118.3330  \n",
       "2                    13  41.4455   -82.1377  \n",
       "3                    28  39.6518  -104.8020  \n",
       "4                    27  36.1140   -79.9569  \n",
       "\n",
       "[5 rows x 21 columns]"
      ]
     },
     "execution_count": 9,
     "metadata": {},
     "output_type": "execute_result"
    }
   ],
   "source": [
    "df.head()"
   ]
  },
  {
   "cell_type": "code",
   "execution_count": 10,
   "id": "a0031641",
   "metadata": {},
   "outputs": [
    {
     "data": {
      "text/plain": [
       "incident_id                     0\n",
       "date                            0\n",
       "state                           0\n",
       "city_or_county                  0\n",
       "number_killed                   0\n",
       "number_injured                  0\n",
       "congressional_district      11944\n",
       "gun_type                        0\n",
       "incident_characteristics      326\n",
       "Gang Reated?                    0\n",
       "Mass shooting?                  0\n",
       "number_guns_involved            0\n",
       "participant_age                 0\n",
       "participant_age_group           0\n",
       "participant_gender              0\n",
       "participant_status              0\n",
       "participant_type                0\n",
       "state_house_district            0\n",
       "state_senate_district           0\n",
       "latitude                     7923\n",
       "longitude                    7923\n",
       "dtype: int64"
      ]
     },
     "execution_count": 10,
     "metadata": {},
     "output_type": "execute_result"
    }
   ],
   "source": [
    "df.isnull().sum()"
   ]
  },
  {
   "cell_type": "code",
   "execution_count": 11,
   "id": "cb33ee5b",
   "metadata": {},
   "outputs": [],
   "source": [
    "# find duplicates\n",
    "df_dups = df[df.duplicated()]"
   ]
  },
  {
   "cell_type": "code",
   "execution_count": 12,
   "id": "f76d789e",
   "metadata": {},
   "outputs": [
    {
     "data": {
      "text/plain": [
       "(0, 21)"
      ]
     },
     "execution_count": 12,
     "metadata": {},
     "output_type": "execute_result"
    }
   ],
   "source": [
    "df_dups.shape"
   ]
  },
  {
   "cell_type": "code",
   "execution_count": 14,
   "id": "7ff781e0",
   "metadata": {},
   "outputs": [],
   "source": [
    "#create some additional columns\n",
    "df['date'] = pd.to_datetime(df['date'])\n",
    "df['year'] = df['date'].dt.year\n",
    "df['month'] = df['date'].dt.month\n",
    "df['loss'] = df['number_killed'] + df['number_injured']"
   ]
  },
  {
   "cell_type": "code",
   "execution_count": 15,
   "id": "1019cc43",
   "metadata": {},
   "outputs": [
    {
     "name": "stdout",
     "output_type": "stream",
     "text": [
      "Gun Violence Dimensions: (239677, 24)\n"
     ]
    },
    {
     "data": {
      "text/html": [
       "<div>\n",
       "<style scoped>\n",
       "    .dataframe tbody tr th:only-of-type {\n",
       "        vertical-align: middle;\n",
       "    }\n",
       "\n",
       "    .dataframe tbody tr th {\n",
       "        vertical-align: top;\n",
       "    }\n",
       "\n",
       "    .dataframe thead th {\n",
       "        text-align: right;\n",
       "    }\n",
       "</style>\n",
       "<table border=\"1\" class=\"dataframe\">\n",
       "  <thead>\n",
       "    <tr style=\"text-align: right;\">\n",
       "      <th></th>\n",
       "      <th>incident_id</th>\n",
       "      <th>date</th>\n",
       "      <th>state</th>\n",
       "      <th>city_or_county</th>\n",
       "      <th>number_killed</th>\n",
       "      <th>number_injured</th>\n",
       "      <th>congressional_district</th>\n",
       "      <th>gun_type</th>\n",
       "      <th>incident_characteristics</th>\n",
       "      <th>Gang Reated?</th>\n",
       "      <th>...</th>\n",
       "      <th>participant_gender</th>\n",
       "      <th>participant_status</th>\n",
       "      <th>participant_type</th>\n",
       "      <th>state_house_district</th>\n",
       "      <th>state_senate_district</th>\n",
       "      <th>latitude</th>\n",
       "      <th>longitude</th>\n",
       "      <th>year</th>\n",
       "      <th>month</th>\n",
       "      <th>loss</th>\n",
       "    </tr>\n",
       "  </thead>\n",
       "  <tbody>\n",
       "    <tr>\n",
       "      <th>0</th>\n",
       "      <td>461105</td>\n",
       "      <td>2013-01-01</td>\n",
       "      <td>Pennsylvania</td>\n",
       "      <td>Mckeesport</td>\n",
       "      <td>0</td>\n",
       "      <td>4</td>\n",
       "      <td>14.0</td>\n",
       "      <td>0::Unkown</td>\n",
       "      <td>Shot - Wounded/Injured||Mass Shooting (4+ vict...</td>\n",
       "      <td>Not Gang Related</td>\n",
       "      <td>...</td>\n",
       "      <td>0::Male||1::Male||3::Male||4::Female</td>\n",
       "      <td>0::Arrested||1::Injured||2::Injured||3::Injure...</td>\n",
       "      <td>0::Victim||1::Victim||2::Victim||3::Victim||4:...</td>\n",
       "      <td>Unkown</td>\n",
       "      <td>Unkown</td>\n",
       "      <td>40.3467</td>\n",
       "      <td>-79.8559</td>\n",
       "      <td>2013</td>\n",
       "      <td>1</td>\n",
       "      <td>4</td>\n",
       "    </tr>\n",
       "    <tr>\n",
       "      <th>1</th>\n",
       "      <td>460726</td>\n",
       "      <td>2013-01-01</td>\n",
       "      <td>California</td>\n",
       "      <td>Hawthorne</td>\n",
       "      <td>1</td>\n",
       "      <td>3</td>\n",
       "      <td>43.0</td>\n",
       "      <td>0::Unkown</td>\n",
       "      <td>Shot - Wounded/Injured||Shot - Dead (murder, a...</td>\n",
       "      <td>Gang Related</td>\n",
       "      <td>...</td>\n",
       "      <td>0::Male</td>\n",
       "      <td>0::Killed||1::Injured||2::Injured||3::Injured</td>\n",
       "      <td>0::Victim||1::Victim||2::Victim||3::Victim||4:...</td>\n",
       "      <td>62</td>\n",
       "      <td>35</td>\n",
       "      <td>33.9090</td>\n",
       "      <td>-118.3330</td>\n",
       "      <td>2013</td>\n",
       "      <td>1</td>\n",
       "      <td>4</td>\n",
       "    </tr>\n",
       "    <tr>\n",
       "      <th>2</th>\n",
       "      <td>478855</td>\n",
       "      <td>2013-01-01</td>\n",
       "      <td>Ohio</td>\n",
       "      <td>Lorain</td>\n",
       "      <td>1</td>\n",
       "      <td>3</td>\n",
       "      <td>9.0</td>\n",
       "      <td>0::Unknown||1::Unknown</td>\n",
       "      <td>Shot - Wounded/Injured||Shot - Dead (murder, a...</td>\n",
       "      <td>Not Gang Related</td>\n",
       "      <td>...</td>\n",
       "      <td>0::Male||1::Male||2::Male||3::Male||4::Male</td>\n",
       "      <td>0::Injured, Unharmed, Arrested||1::Unharmed, A...</td>\n",
       "      <td>0::Subject-Suspect||1::Subject-Suspect||2::Vic...</td>\n",
       "      <td>56</td>\n",
       "      <td>13</td>\n",
       "      <td>41.4455</td>\n",
       "      <td>-82.1377</td>\n",
       "      <td>2013</td>\n",
       "      <td>1</td>\n",
       "      <td>4</td>\n",
       "    </tr>\n",
       "    <tr>\n",
       "      <th>3</th>\n",
       "      <td>478925</td>\n",
       "      <td>2013-01-05</td>\n",
       "      <td>Colorado</td>\n",
       "      <td>Aurora</td>\n",
       "      <td>4</td>\n",
       "      <td>0</td>\n",
       "      <td>6.0</td>\n",
       "      <td>0::Unkown</td>\n",
       "      <td>Shot - Dead (murder, accidental, suicide)||Off...</td>\n",
       "      <td>Not Gang Related</td>\n",
       "      <td>...</td>\n",
       "      <td>0::Female||1::Male||2::Male||3::Male</td>\n",
       "      <td>0::Killed||1::Killed||2::Killed||3::Killed</td>\n",
       "      <td>0::Victim||1::Victim||2::Victim||3::Subject-Su...</td>\n",
       "      <td>40</td>\n",
       "      <td>28</td>\n",
       "      <td>39.6518</td>\n",
       "      <td>-104.8020</td>\n",
       "      <td>2013</td>\n",
       "      <td>1</td>\n",
       "      <td>4</td>\n",
       "    </tr>\n",
       "    <tr>\n",
       "      <th>4</th>\n",
       "      <td>478959</td>\n",
       "      <td>2013-01-07</td>\n",
       "      <td>North Carolina</td>\n",
       "      <td>Greensboro</td>\n",
       "      <td>2</td>\n",
       "      <td>2</td>\n",
       "      <td>6.0</td>\n",
       "      <td>0::Handgun||1::Handgun</td>\n",
       "      <td>Shot - Wounded/Injured||Shot - Dead (murder, a...</td>\n",
       "      <td>Not Gang Related</td>\n",
       "      <td>...</td>\n",
       "      <td>0::Female||1::Male||2::Male||3::Female</td>\n",
       "      <td>0::Injured||1::Injured||2::Killed||3::Killed</td>\n",
       "      <td>0::Victim||1::Victim||2::Victim||3::Subject-Su...</td>\n",
       "      <td>62</td>\n",
       "      <td>27</td>\n",
       "      <td>36.1140</td>\n",
       "      <td>-79.9569</td>\n",
       "      <td>2013</td>\n",
       "      <td>1</td>\n",
       "      <td>4</td>\n",
       "    </tr>\n",
       "  </tbody>\n",
       "</table>\n",
       "<p>5 rows × 24 columns</p>\n",
       "</div>"
      ],
      "text/plain": [
       "   incident_id       date           state city_or_county  number_killed  \\\n",
       "0       461105 2013-01-01    Pennsylvania     Mckeesport              0   \n",
       "1       460726 2013-01-01      California      Hawthorne              1   \n",
       "2       478855 2013-01-01            Ohio         Lorain              1   \n",
       "3       478925 2013-01-05        Colorado         Aurora              4   \n",
       "4       478959 2013-01-07  North Carolina     Greensboro              2   \n",
       "\n",
       "   number_injured  congressional_district                gun_type  \\\n",
       "0               4                    14.0               0::Unkown   \n",
       "1               3                    43.0               0::Unkown   \n",
       "2               3                     9.0  0::Unknown||1::Unknown   \n",
       "3               0                     6.0               0::Unkown   \n",
       "4               2                     6.0  0::Handgun||1::Handgun   \n",
       "\n",
       "                            incident_characteristics      Gang Reated?  ...  \\\n",
       "0  Shot - Wounded/Injured||Mass Shooting (4+ vict...  Not Gang Related  ...   \n",
       "1  Shot - Wounded/Injured||Shot - Dead (murder, a...      Gang Related  ...   \n",
       "2  Shot - Wounded/Injured||Shot - Dead (murder, a...  Not Gang Related  ...   \n",
       "3  Shot - Dead (murder, accidental, suicide)||Off...  Not Gang Related  ...   \n",
       "4  Shot - Wounded/Injured||Shot - Dead (murder, a...  Not Gang Related  ...   \n",
       "\n",
       "                            participant_gender  \\\n",
       "0         0::Male||1::Male||3::Male||4::Female   \n",
       "1                                      0::Male   \n",
       "2  0::Male||1::Male||2::Male||3::Male||4::Male   \n",
       "3         0::Female||1::Male||2::Male||3::Male   \n",
       "4       0::Female||1::Male||2::Male||3::Female   \n",
       "\n",
       "                                  participant_status  \\\n",
       "0  0::Arrested||1::Injured||2::Injured||3::Injure...   \n",
       "1      0::Killed||1::Injured||2::Injured||3::Injured   \n",
       "2  0::Injured, Unharmed, Arrested||1::Unharmed, A...   \n",
       "3         0::Killed||1::Killed||2::Killed||3::Killed   \n",
       "4       0::Injured||1::Injured||2::Killed||3::Killed   \n",
       "\n",
       "                                    participant_type state_house_district  \\\n",
       "0  0::Victim||1::Victim||2::Victim||3::Victim||4:...               Unkown   \n",
       "1  0::Victim||1::Victim||2::Victim||3::Victim||4:...                   62   \n",
       "2  0::Subject-Suspect||1::Subject-Suspect||2::Vic...                   56   \n",
       "3  0::Victim||1::Victim||2::Victim||3::Subject-Su...                   40   \n",
       "4  0::Victim||1::Victim||2::Victim||3::Subject-Su...                   62   \n",
       "\n",
       "  state_senate_district latitude longitude  year month  loss  \n",
       "0                Unkown  40.3467  -79.8559  2013     1     4  \n",
       "1                    35  33.9090 -118.3330  2013     1     4  \n",
       "2                    13  41.4455  -82.1377  2013     1     4  \n",
       "3                    28  39.6518 -104.8020  2013     1     4  \n",
       "4                    27  36.1140  -79.9569  2013     1     4  \n",
       "\n",
       "[5 rows x 24 columns]"
      ]
     },
     "execution_count": 15,
     "metadata": {},
     "output_type": "execute_result"
    }
   ],
   "source": [
    "print(\"Gun Violence Dimensions:\", df.shape)\n",
    "df.head()"
   ]
  },
  {
   "cell_type": "code",
   "execution_count": 16,
   "id": "70487a45",
   "metadata": {},
   "outputs": [
    {
     "data": {
      "text/html": [
       "<div>\n",
       "<style scoped>\n",
       "    .dataframe tbody tr th:only-of-type {\n",
       "        vertical-align: middle;\n",
       "    }\n",
       "\n",
       "    .dataframe tbody tr th {\n",
       "        vertical-align: top;\n",
       "    }\n",
       "\n",
       "    .dataframe thead th {\n",
       "        text-align: right;\n",
       "    }\n",
       "</style>\n",
       "<table border=\"1\" class=\"dataframe\">\n",
       "  <thead>\n",
       "    <tr style=\"text-align: right;\">\n",
       "      <th></th>\n",
       "      <th>incident_id</th>\n",
       "      <th>date</th>\n",
       "      <th>state</th>\n",
       "      <th>city_or_county</th>\n",
       "      <th>number_killed</th>\n",
       "      <th>number_injured</th>\n",
       "      <th>congressional_district</th>\n",
       "      <th>gun_type</th>\n",
       "      <th>incident_characteristics</th>\n",
       "      <th>Gang Reated?</th>\n",
       "      <th>...</th>\n",
       "      <th>participant_gender</th>\n",
       "      <th>participant_status</th>\n",
       "      <th>participant_type</th>\n",
       "      <th>state_house_district</th>\n",
       "      <th>state_senate_district</th>\n",
       "      <th>latitude</th>\n",
       "      <th>longitude</th>\n",
       "      <th>year</th>\n",
       "      <th>month</th>\n",
       "      <th>loss</th>\n",
       "    </tr>\n",
       "  </thead>\n",
       "  <tbody>\n",
       "    <tr>\n",
       "      <th>239673</th>\n",
       "      <td>1083139</td>\n",
       "      <td>2018-03-31</td>\n",
       "      <td>Louisiana</td>\n",
       "      <td>Natchitoches</td>\n",
       "      <td>1</td>\n",
       "      <td>0</td>\n",
       "      <td>4.0</td>\n",
       "      <td>0::Unknown</td>\n",
       "      <td>Shot - Dead (murder, accidental, suicide)||Ins...</td>\n",
       "      <td>Not Gang Related</td>\n",
       "      <td>...</td>\n",
       "      <td>0::Male||1::Male</td>\n",
       "      <td>0::Killed||1::Unharmed, Arrested</td>\n",
       "      <td>0::Victim||1::Subject-Suspect</td>\n",
       "      <td>23</td>\n",
       "      <td>31</td>\n",
       "      <td>31.7537</td>\n",
       "      <td>-93.0836</td>\n",
       "      <td>2018</td>\n",
       "      <td>3</td>\n",
       "      <td>1</td>\n",
       "    </tr>\n",
       "    <tr>\n",
       "      <th>239674</th>\n",
       "      <td>1083151</td>\n",
       "      <td>2018-03-31</td>\n",
       "      <td>Louisiana</td>\n",
       "      <td>Gretna</td>\n",
       "      <td>0</td>\n",
       "      <td>1</td>\n",
       "      <td>2.0</td>\n",
       "      <td>0::Unknown</td>\n",
       "      <td>Shot - Wounded/Injured</td>\n",
       "      <td>Not Gang Related</td>\n",
       "      <td>...</td>\n",
       "      <td>0::Male</td>\n",
       "      <td>0::Injured</td>\n",
       "      <td>0::Victim</td>\n",
       "      <td>85</td>\n",
       "      <td>7</td>\n",
       "      <td>29.9239</td>\n",
       "      <td>-90.0442</td>\n",
       "      <td>2018</td>\n",
       "      <td>3</td>\n",
       "      <td>1</td>\n",
       "    </tr>\n",
       "    <tr>\n",
       "      <th>239675</th>\n",
       "      <td>1082514</td>\n",
       "      <td>2018-03-31</td>\n",
       "      <td>Texas</td>\n",
       "      <td>Houston</td>\n",
       "      <td>1</td>\n",
       "      <td>0</td>\n",
       "      <td>9.0</td>\n",
       "      <td>0::Unknown</td>\n",
       "      <td>Shot - Dead (murder, accidental, suicide)</td>\n",
       "      <td>Not Gang Related</td>\n",
       "      <td>...</td>\n",
       "      <td>0::Male</td>\n",
       "      <td>0::Killed</td>\n",
       "      <td>0::Victim</td>\n",
       "      <td>149</td>\n",
       "      <td>17</td>\n",
       "      <td>29.7201</td>\n",
       "      <td>-95.6110</td>\n",
       "      <td>2018</td>\n",
       "      <td>3</td>\n",
       "      <td>1</td>\n",
       "    </tr>\n",
       "    <tr>\n",
       "      <th>239676</th>\n",
       "      <td>1081940</td>\n",
       "      <td>2018-03-31</td>\n",
       "      <td>Maine</td>\n",
       "      <td>Norridgewock</td>\n",
       "      <td>2</td>\n",
       "      <td>0</td>\n",
       "      <td>2.0</td>\n",
       "      <td>0::Handgun||1::Shotgun</td>\n",
       "      <td>Shot - Dead (murder, accidental, suicide)||Sui...</td>\n",
       "      <td>Not Gang Related</td>\n",
       "      <td>...</td>\n",
       "      <td>0::Female||1::Male</td>\n",
       "      <td>0::Killed||1::Killed</td>\n",
       "      <td>0::Victim||1::Subject-Suspect</td>\n",
       "      <td>111</td>\n",
       "      <td>3</td>\n",
       "      <td>44.7293</td>\n",
       "      <td>-69.7691</td>\n",
       "      <td>2018</td>\n",
       "      <td>3</td>\n",
       "      <td>2</td>\n",
       "    </tr>\n",
       "  </tbody>\n",
       "</table>\n",
       "<p>4 rows × 24 columns</p>\n",
       "</div>"
      ],
      "text/plain": [
       "        incident_id       date      state city_or_county  number_killed  \\\n",
       "239673      1083139 2018-03-31  Louisiana   Natchitoches              1   \n",
       "239674      1083151 2018-03-31  Louisiana         Gretna              0   \n",
       "239675      1082514 2018-03-31      Texas        Houston              1   \n",
       "239676      1081940 2018-03-31      Maine   Norridgewock              2   \n",
       "\n",
       "        number_injured  congressional_district                gun_type  \\\n",
       "239673               0                     4.0              0::Unknown   \n",
       "239674               1                     2.0              0::Unknown   \n",
       "239675               0                     9.0              0::Unknown   \n",
       "239676               0                     2.0  0::Handgun||1::Shotgun   \n",
       "\n",
       "                                 incident_characteristics      Gang Reated?  \\\n",
       "239673  Shot - Dead (murder, accidental, suicide)||Ins...  Not Gang Related   \n",
       "239674                             Shot - Wounded/Injured  Not Gang Related   \n",
       "239675          Shot - Dead (murder, accidental, suicide)  Not Gang Related   \n",
       "239676  Shot - Dead (murder, accidental, suicide)||Sui...  Not Gang Related   \n",
       "\n",
       "        ...  participant_gender                participant_status  \\\n",
       "239673  ...    0::Male||1::Male  0::Killed||1::Unharmed, Arrested   \n",
       "239674  ...             0::Male                        0::Injured   \n",
       "239675  ...             0::Male                         0::Killed   \n",
       "239676  ...  0::Female||1::Male              0::Killed||1::Killed   \n",
       "\n",
       "                     participant_type state_house_district  \\\n",
       "239673  0::Victim||1::Subject-Suspect                   23   \n",
       "239674                      0::Victim                   85   \n",
       "239675                      0::Victim                  149   \n",
       "239676  0::Victim||1::Subject-Suspect                  111   \n",
       "\n",
       "       state_senate_district latitude longitude  year month  loss  \n",
       "239673                    31  31.7537  -93.0836  2018     3     1  \n",
       "239674                     7  29.9239  -90.0442  2018     3     1  \n",
       "239675                    17  29.7201  -95.6110  2018     3     1  \n",
       "239676                     3  44.7293  -69.7691  2018     3     2  \n",
       "\n",
       "[4 rows x 24 columns]"
      ]
     },
     "execution_count": 16,
     "metadata": {},
     "output_type": "execute_result"
    }
   ],
   "source": [
    "df.tail(4)"
   ]
  },
  {
   "cell_type": "code",
   "execution_count": 17,
   "id": "93e6e5ea",
   "metadata": {},
   "outputs": [
    {
     "data": {
      "text/plain": [
       "count    239677.000000\n",
       "mean       2015.711629\n",
       "std           1.225870\n",
       "min        2013.000000\n",
       "25%        2015.000000\n",
       "50%        2016.000000\n",
       "75%        2017.000000\n",
       "max        2018.000000\n",
       "Name: year, dtype: float64"
      ]
     },
     "execution_count": 17,
     "metadata": {},
     "output_type": "execute_result"
    }
   ],
   "source": [
    "df['year'].describe()"
   ]
  },
  {
   "cell_type": "code",
   "execution_count": 22,
   "id": "0181a8ba",
   "metadata": {},
   "outputs": [],
   "source": [
    "df = df.rename(columns={'Gang Reated?':'Gang Related','Mass Shooting?':'Mass Shooting',\n",
    "                       'number_killed':'Killed','number_injured':'Injured'})"
   ]
  },
  {
   "cell_type": "code",
   "execution_count": 23,
   "id": "abbc5664",
   "metadata": {},
   "outputs": [
    {
     "data": {
      "text/html": [
       "<div>\n",
       "<style scoped>\n",
       "    .dataframe tbody tr th:only-of-type {\n",
       "        vertical-align: middle;\n",
       "    }\n",
       "\n",
       "    .dataframe tbody tr th {\n",
       "        vertical-align: top;\n",
       "    }\n",
       "\n",
       "    .dataframe thead th {\n",
       "        text-align: right;\n",
       "    }\n",
       "</style>\n",
       "<table border=\"1\" class=\"dataframe\">\n",
       "  <thead>\n",
       "    <tr style=\"text-align: right;\">\n",
       "      <th></th>\n",
       "      <th>incident_id</th>\n",
       "      <th>date</th>\n",
       "      <th>state</th>\n",
       "      <th>city_or_county</th>\n",
       "      <th>Killed</th>\n",
       "      <th>Injured</th>\n",
       "      <th>congressional_district</th>\n",
       "      <th>gun_type</th>\n",
       "      <th>incident_characteristics</th>\n",
       "      <th>Gang Related</th>\n",
       "      <th>...</th>\n",
       "      <th>participant_gender</th>\n",
       "      <th>participant_status</th>\n",
       "      <th>participant_type</th>\n",
       "      <th>state_house_district</th>\n",
       "      <th>state_senate_district</th>\n",
       "      <th>latitude</th>\n",
       "      <th>longitude</th>\n",
       "      <th>year</th>\n",
       "      <th>month</th>\n",
       "      <th>loss</th>\n",
       "    </tr>\n",
       "  </thead>\n",
       "  <tbody>\n",
       "    <tr>\n",
       "      <th>0</th>\n",
       "      <td>461105</td>\n",
       "      <td>2013-01-01</td>\n",
       "      <td>Pennsylvania</td>\n",
       "      <td>Mckeesport</td>\n",
       "      <td>0</td>\n",
       "      <td>4</td>\n",
       "      <td>14.0</td>\n",
       "      <td>0::Unkown</td>\n",
       "      <td>Shot - Wounded/Injured||Mass Shooting (4+ vict...</td>\n",
       "      <td>Not Gang Related</td>\n",
       "      <td>...</td>\n",
       "      <td>0::Male||1::Male||3::Male||4::Female</td>\n",
       "      <td>0::Arrested||1::Injured||2::Injured||3::Injure...</td>\n",
       "      <td>0::Victim||1::Victim||2::Victim||3::Victim||4:...</td>\n",
       "      <td>Unkown</td>\n",
       "      <td>Unkown</td>\n",
       "      <td>40.3467</td>\n",
       "      <td>-79.8559</td>\n",
       "      <td>2013</td>\n",
       "      <td>1</td>\n",
       "      <td>4</td>\n",
       "    </tr>\n",
       "    <tr>\n",
       "      <th>1</th>\n",
       "      <td>460726</td>\n",
       "      <td>2013-01-01</td>\n",
       "      <td>California</td>\n",
       "      <td>Hawthorne</td>\n",
       "      <td>1</td>\n",
       "      <td>3</td>\n",
       "      <td>43.0</td>\n",
       "      <td>0::Unkown</td>\n",
       "      <td>Shot - Wounded/Injured||Shot - Dead (murder, a...</td>\n",
       "      <td>Gang Related</td>\n",
       "      <td>...</td>\n",
       "      <td>0::Male</td>\n",
       "      <td>0::Killed||1::Injured||2::Injured||3::Injured</td>\n",
       "      <td>0::Victim||1::Victim||2::Victim||3::Victim||4:...</td>\n",
       "      <td>62</td>\n",
       "      <td>35</td>\n",
       "      <td>33.9090</td>\n",
       "      <td>-118.3330</td>\n",
       "      <td>2013</td>\n",
       "      <td>1</td>\n",
       "      <td>4</td>\n",
       "    </tr>\n",
       "    <tr>\n",
       "      <th>2</th>\n",
       "      <td>478855</td>\n",
       "      <td>2013-01-01</td>\n",
       "      <td>Ohio</td>\n",
       "      <td>Lorain</td>\n",
       "      <td>1</td>\n",
       "      <td>3</td>\n",
       "      <td>9.0</td>\n",
       "      <td>0::Unknown||1::Unknown</td>\n",
       "      <td>Shot - Wounded/Injured||Shot - Dead (murder, a...</td>\n",
       "      <td>Not Gang Related</td>\n",
       "      <td>...</td>\n",
       "      <td>0::Male||1::Male||2::Male||3::Male||4::Male</td>\n",
       "      <td>0::Injured, Unharmed, Arrested||1::Unharmed, A...</td>\n",
       "      <td>0::Subject-Suspect||1::Subject-Suspect||2::Vic...</td>\n",
       "      <td>56</td>\n",
       "      <td>13</td>\n",
       "      <td>41.4455</td>\n",
       "      <td>-82.1377</td>\n",
       "      <td>2013</td>\n",
       "      <td>1</td>\n",
       "      <td>4</td>\n",
       "    </tr>\n",
       "    <tr>\n",
       "      <th>3</th>\n",
       "      <td>478925</td>\n",
       "      <td>2013-01-05</td>\n",
       "      <td>Colorado</td>\n",
       "      <td>Aurora</td>\n",
       "      <td>4</td>\n",
       "      <td>0</td>\n",
       "      <td>6.0</td>\n",
       "      <td>0::Unkown</td>\n",
       "      <td>Shot - Dead (murder, accidental, suicide)||Off...</td>\n",
       "      <td>Not Gang Related</td>\n",
       "      <td>...</td>\n",
       "      <td>0::Female||1::Male||2::Male||3::Male</td>\n",
       "      <td>0::Killed||1::Killed||2::Killed||3::Killed</td>\n",
       "      <td>0::Victim||1::Victim||2::Victim||3::Subject-Su...</td>\n",
       "      <td>40</td>\n",
       "      <td>28</td>\n",
       "      <td>39.6518</td>\n",
       "      <td>-104.8020</td>\n",
       "      <td>2013</td>\n",
       "      <td>1</td>\n",
       "      <td>4</td>\n",
       "    </tr>\n",
       "    <tr>\n",
       "      <th>4</th>\n",
       "      <td>478959</td>\n",
       "      <td>2013-01-07</td>\n",
       "      <td>North Carolina</td>\n",
       "      <td>Greensboro</td>\n",
       "      <td>2</td>\n",
       "      <td>2</td>\n",
       "      <td>6.0</td>\n",
       "      <td>0::Handgun||1::Handgun</td>\n",
       "      <td>Shot - Wounded/Injured||Shot - Dead (murder, a...</td>\n",
       "      <td>Not Gang Related</td>\n",
       "      <td>...</td>\n",
       "      <td>0::Female||1::Male||2::Male||3::Female</td>\n",
       "      <td>0::Injured||1::Injured||2::Killed||3::Killed</td>\n",
       "      <td>0::Victim||1::Victim||2::Victim||3::Subject-Su...</td>\n",
       "      <td>62</td>\n",
       "      <td>27</td>\n",
       "      <td>36.1140</td>\n",
       "      <td>-79.9569</td>\n",
       "      <td>2013</td>\n",
       "      <td>1</td>\n",
       "      <td>4</td>\n",
       "    </tr>\n",
       "  </tbody>\n",
       "</table>\n",
       "<p>5 rows × 24 columns</p>\n",
       "</div>"
      ],
      "text/plain": [
       "   incident_id       date           state city_or_county  Killed  Injured  \\\n",
       "0       461105 2013-01-01    Pennsylvania     Mckeesport       0        4   \n",
       "1       460726 2013-01-01      California      Hawthorne       1        3   \n",
       "2       478855 2013-01-01            Ohio         Lorain       1        3   \n",
       "3       478925 2013-01-05        Colorado         Aurora       4        0   \n",
       "4       478959 2013-01-07  North Carolina     Greensboro       2        2   \n",
       "\n",
       "   congressional_district                gun_type  \\\n",
       "0                    14.0               0::Unkown   \n",
       "1                    43.0               0::Unkown   \n",
       "2                     9.0  0::Unknown||1::Unknown   \n",
       "3                     6.0               0::Unkown   \n",
       "4                     6.0  0::Handgun||1::Handgun   \n",
       "\n",
       "                            incident_characteristics      Gang Related  ...  \\\n",
       "0  Shot - Wounded/Injured||Mass Shooting (4+ vict...  Not Gang Related  ...   \n",
       "1  Shot - Wounded/Injured||Shot - Dead (murder, a...      Gang Related  ...   \n",
       "2  Shot - Wounded/Injured||Shot - Dead (murder, a...  Not Gang Related  ...   \n",
       "3  Shot - Dead (murder, accidental, suicide)||Off...  Not Gang Related  ...   \n",
       "4  Shot - Wounded/Injured||Shot - Dead (murder, a...  Not Gang Related  ...   \n",
       "\n",
       "                            participant_gender  \\\n",
       "0         0::Male||1::Male||3::Male||4::Female   \n",
       "1                                      0::Male   \n",
       "2  0::Male||1::Male||2::Male||3::Male||4::Male   \n",
       "3         0::Female||1::Male||2::Male||3::Male   \n",
       "4       0::Female||1::Male||2::Male||3::Female   \n",
       "\n",
       "                                  participant_status  \\\n",
       "0  0::Arrested||1::Injured||2::Injured||3::Injure...   \n",
       "1      0::Killed||1::Injured||2::Injured||3::Injured   \n",
       "2  0::Injured, Unharmed, Arrested||1::Unharmed, A...   \n",
       "3         0::Killed||1::Killed||2::Killed||3::Killed   \n",
       "4       0::Injured||1::Injured||2::Killed||3::Killed   \n",
       "\n",
       "                                    participant_type state_house_district  \\\n",
       "0  0::Victim||1::Victim||2::Victim||3::Victim||4:...               Unkown   \n",
       "1  0::Victim||1::Victim||2::Victim||3::Victim||4:...                   62   \n",
       "2  0::Subject-Suspect||1::Subject-Suspect||2::Vic...                   56   \n",
       "3  0::Victim||1::Victim||2::Victim||3::Subject-Su...                   40   \n",
       "4  0::Victim||1::Victim||2::Victim||3::Subject-Su...                   62   \n",
       "\n",
       "  state_senate_district latitude longitude  year month  loss  \n",
       "0                Unkown  40.3467  -79.8559  2013     1     4  \n",
       "1                    35  33.9090 -118.3330  2013     1     4  \n",
       "2                    13  41.4455  -82.1377  2013     1     4  \n",
       "3                    28  39.6518 -104.8020  2013     1     4  \n",
       "4                    27  36.1140  -79.9569  2013     1     4  \n",
       "\n",
       "[5 rows x 24 columns]"
      ]
     },
     "execution_count": 23,
     "metadata": {},
     "output_type": "execute_result"
    }
   ],
   "source": [
    "df.head()"
   ]
  },
  {
   "cell_type": "code",
   "execution_count": 24,
   "id": "be7dba6b",
   "metadata": {},
   "outputs": [
    {
     "data": {
      "text/plain": [
       "Index(['incident_id', 'date', 'state', 'city_or_county', 'Killed', 'Injured',\n",
       "       'congressional_district', 'gun_type', 'incident_characteristics',\n",
       "       'Gang Related', 'Mass shooting?', 'number_guns_involved',\n",
       "       'participant_age', 'participant_age_group', 'participant_gender',\n",
       "       'participant_status', 'participant_type', 'state_house_district',\n",
       "       'state_senate_district', 'latitude', 'longitude', 'year', 'month',\n",
       "       'loss'],\n",
       "      dtype='object')"
      ]
     },
     "execution_count": 24,
     "metadata": {},
     "output_type": "execute_result"
    }
   ],
   "source": [
    "df.columns"
   ]
  },
  {
   "cell_type": "code",
   "execution_count": 27,
   "id": "0c753005",
   "metadata": {},
   "outputs": [],
   "source": [
    "df_sub = df[['year','month','loss','Gang Related','Mass shooting?','state']]"
   ]
  },
  {
   "cell_type": "code",
   "execution_count": 28,
   "id": "d5383e54",
   "metadata": {},
   "outputs": [
    {
     "name": "stderr",
     "output_type": "stream",
     "text": [
      "/var/folders/xd/drqthjd9059gd5kl114ffjhr0000gn/T/ipykernel_29226/2510699769.py:1: FutureWarning: The default value of numeric_only in DataFrame.corr is deprecated. In a future version, it will default to False. Select only valid columns or specify the value of numeric_only to silence this warning.\n",
      "  df_sub.corr()\n"
     ]
    },
    {
     "data": {
      "text/html": [
       "<div>\n",
       "<style scoped>\n",
       "    .dataframe tbody tr th:only-of-type {\n",
       "        vertical-align: middle;\n",
       "    }\n",
       "\n",
       "    .dataframe tbody tr th {\n",
       "        vertical-align: top;\n",
       "    }\n",
       "\n",
       "    .dataframe thead th {\n",
       "        text-align: right;\n",
       "    }\n",
       "</style>\n",
       "<table border=\"1\" class=\"dataframe\">\n",
       "  <thead>\n",
       "    <tr style=\"text-align: right;\">\n",
       "      <th></th>\n",
       "      <th>year</th>\n",
       "      <th>month</th>\n",
       "      <th>loss</th>\n",
       "    </tr>\n",
       "  </thead>\n",
       "  <tbody>\n",
       "    <tr>\n",
       "      <th>year</th>\n",
       "      <td>1.000000</td>\n",
       "      <td>-0.166297</td>\n",
       "      <td>0.007055</td>\n",
       "    </tr>\n",
       "    <tr>\n",
       "      <th>month</th>\n",
       "      <td>-0.166297</td>\n",
       "      <td>1.000000</td>\n",
       "      <td>0.016942</td>\n",
       "    </tr>\n",
       "    <tr>\n",
       "      <th>loss</th>\n",
       "      <td>0.007055</td>\n",
       "      <td>0.016942</td>\n",
       "      <td>1.000000</td>\n",
       "    </tr>\n",
       "  </tbody>\n",
       "</table>\n",
       "</div>"
      ],
      "text/plain": [
       "           year     month      loss\n",
       "year   1.000000 -0.166297  0.007055\n",
       "month -0.166297  1.000000  0.016942\n",
       "loss   0.007055  0.016942  1.000000"
      ]
     },
     "execution_count": 28,
     "metadata": {},
     "output_type": "execute_result"
    }
   ],
   "source": [
    "df_sub.corr()"
   ]
  },
  {
   "cell_type": "code",
   "execution_count": 29,
   "id": "4fb5a59b",
   "metadata": {},
   "outputs": [
    {
     "name": "stderr",
     "output_type": "stream",
     "text": [
      "/var/folders/xd/drqthjd9059gd5kl114ffjhr0000gn/T/ipykernel_29226/2209928231.py:3: FutureWarning: The default value of numeric_only in DataFrame.corr is deprecated. In a future version, it will default to False. Select only valid columns or specify the value of numeric_only to silence this warning.\n",
      "  plt.matshow(df_sub.corr())\n"
     ]
    },
    {
     "data": {
      "image/png": "[encoded data removed]",
      "text/plain": [
       "<Figure size 480x480 with 1 Axes>"
      ]
     },
     "metadata": {},
     "output_type": "display_data"
    }
   ],
   "source": [
    "# Create a correlation heatmap using matplotlib\n",
    "\n",
    "plt.matshow(df_sub.corr())\n",
    "plt.show()"
   ]
  },
  {
   "cell_type": "code",
   "execution_count": 31,
   "id": "b2f04b80",
   "metadata": {},
   "outputs": [],
   "source": [
    "# Create a sub data frame with just numbers\n",
    "\n",
    "df_sub2 =df[['year','month','loss','longitude','latitude','congressional_district','state_senate_district','state_house_district','number_guns_involved']]"
   ]
  },
  {
   "cell_type": "code",
   "execution_count": 32,
   "id": "c1bd17a3",
   "metadata": {},
   "outputs": [
    {
     "name": "stderr",
     "output_type": "stream",
     "text": [
      "/var/folders/xd/drqthjd9059gd5kl114ffjhr0000gn/T/ipykernel_29226/3778109289.py:3: FutureWarning: The default value of numeric_only in DataFrame.corr is deprecated. In a future version, it will default to False. Select only valid columns or specify the value of numeric_only to silence this warning.\n",
      "  plt.matshow(df_sub2.corr())\n"
     ]
    },
    {
     "data": {
      "image/png": "[encoded data removed]",
      "text/plain": [
       "<Figure size 480x480 with 1 Axes>"
      ]
     },
     "metadata": {},
     "output_type": "display_data"
    }
   ],
   "source": [
    "# Create a correlation heatmap using matplotlib with sub2\n",
    "\n",
    "plt.matshow(df_sub2.corr())\n",
    "plt.show()"
   ]
  },
  {
   "cell_type": "code",
   "execution_count": 33,
   "id": "60ba296a",
   "metadata": {},
   "outputs": [
    {
     "name": "stderr",
     "output_type": "stream",
     "text": [
      "/var/folders/xd/drqthjd9059gd5kl114ffjhr0000gn/T/ipykernel_29226/4223995642.py:5: FutureWarning: The default value of numeric_only in DataFrame.corr is deprecated. In a future version, it will default to False. Select only valid columns or specify the value of numeric_only to silence this warning.\n",
      "  corr = sns.heatmap(df_sub2.corr(), annot = True, ax = ax) # The `annot` argument allows the plot to\n"
     ]
    },
    {
     "data": {
      "image/png": "[encoded data removed]",
      "text/plain": [
       "<Figure size 1000x1000 with 2 Axes>"
      ]
     },
     "metadata": {},
     "output_type": "display_data"
    }
   ],
   "source": [
    "# Create a subplot with matplotlib\n",
    "f,ax = plt.subplots(figsize=(10,10))\n",
    "\n",
    "# Create the correlation heatmap in seaborn by applying a heatmap onto the correlation matrix and the subplots defined above.\n",
    "corr = sns.heatmap(df_sub2.corr(), annot = True, ax = ax) # The `annot` argument allows the plot to \n",
    "#place the correlation coefficients onto the heatmap."
   ]
  },
  {
   "cell_type": "code",
   "execution_count": 34,
   "id": "d9f3f70a",
   "metadata": {},
   "outputs": [
    {
     "data": {
      "text/plain": [
       "<seaborn.axisgrid.FacetGrid at 0x7fc94871ed10>"
      ]
     },
     "execution_count": 34,
     "metadata": {},
     "output_type": "execute_result"
    },
    {
     "data": {
      "image/png": "[encoded data removed]",
      "text/plain": [
       "<Figure size 500x500 with 1 Axes>"
      ]
     },
     "metadata": {},
     "output_type": "display_data"
    }
   ],
   "source": [
    "# Create a scatterplot for the \"month\" and \"loss\" columns in seaborn\n",
    "\n",
    "sns.lmplot(x = 'month', y = 'loss', data = df_sub2)"
   ]
  },
  {
   "cell_type": "code",
   "execution_count": 36,
   "id": "64adce47",
   "metadata": {},
   "outputs": [
    {
     "data": {
      "text/plain": [
       "<seaborn.axisgrid.FacetGrid at 0x7fc94a768ca0>"
      ]
     },
     "execution_count": 36,
     "metadata": {},
     "output_type": "execute_result"
    },
    {
     "data": {
      "image/png": "[encoded data removed]",
      "text/plain": [
       "<Figure size 500x500 with 1 Axes>"
      ]
     },
     "metadata": {},
     "output_type": "display_data"
    }
   ],
   "source": [
    "# Create a scatterplot for the \"month\" and \"loss\" columns in seaborn\n",
    "\n",
    "sns.lmplot(x = 'year', y = 'loss', data = df_sub2)"
   ]
  },
  {
   "cell_type": "code",
   "execution_count": 37,
   "id": "8b7bc0b0",
   "metadata": {},
   "outputs": [
    {
     "data": {
      "text/plain": [
       "<seaborn.axisgrid.FacetGrid at 0x7fc91e0a6650>"
      ]
     },
     "execution_count": 37,
     "metadata": {},
     "output_type": "execute_result"
    },
    {
     "data": {
      "image/png": "[encoded data removed]",
      "text/plain": [
       "<Figure size 500x500 with 1 Axes>"
      ]
     },
     "metadata": {},
     "output_type": "display_data"
    }
   ],
   "source": [
    "# Create a scatterplot for the \"month\" and \"loss\" columns in seaborn\n",
    "\n",
    "sns.lmplot(x = 'year', y = 'month', data = df_sub2)"
   ]
  },
  {
   "cell_type": "code",
   "execution_count": 38,
   "id": "a6e1c227",
   "metadata": {},
   "outputs": [],
   "source": [
    "# Export\n",
    "df.to_csv(os.path.join(path, 'Data', 'gun-violence-data-clean2.csv'))"
   ]
  },
  {
   "cell_type": "code",
   "execution_count": null,
   "id": "b6d49035",
   "metadata": {},
   "outputs": [],
   "source": []
  }
 ],
 "metadata": {
  "kernelspec": {
   "display_name": "Python 3 (ipykernel)",
   "language": "python",
   "name": "python3"
  },
  "language_info": {
   "codemirror_mode": {
    "name": "ipython",
    "version": 3
   },
   "file_extension": ".py",
   "mimetype": "text/x-python",
   "name": "python",
   "nbconvert_exporter": "python",
   "pygments_lexer": "ipython3",
   "version": "3.10.9"
  }
 },
 "nbformat": 4,
 "nbformat_minor": 5
}
